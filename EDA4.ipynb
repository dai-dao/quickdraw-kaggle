{
 "cells": [
  {
   "cell_type": "code",
   "execution_count": 1,
   "metadata": {},
   "outputs": [
    {
     "name": "stderr",
     "output_type": "stream",
     "text": [
      "Using TensorFlow backend.\n"
     ]
    }
   ],
   "source": [
    "from dask import dataframe as dd\n",
    "from dask.multiprocessing import get\n",
    "from multiprocessing import cpu_count\n",
    "nCores = cpu_count()\n",
    "from preprocess import *\n",
    "import gc\n",
    "\n",
    "import pandas as pd\n",
    "import numpy as np\n",
    "import os\n",
    "import glob\n",
    "import time"
   ]
  },
  {
   "cell_type": "code",
   "execution_count": 2,
   "metadata": {},
   "outputs": [],
   "source": [
    "# Path definitions\n",
    "base_dir = 'input'\n",
    "ALL_TRAIN_PATHS = glob.glob(os.path.join(base_dir, 'train_simplified/*.csv'))"
   ]
  },
  {
   "cell_type": "code",
   "execution_count": 3,
   "metadata": {},
   "outputs": [
    {
     "name": "stdout",
     "output_type": "stream",
     "text": [
      "('Full shape', (588154, 2))\n",
      "<class 'pandas.core.frame.DataFrame'>\n",
      "Int64Index: 588154 entries, 0 to 178285\n",
      "Data columns (total 2 columns):\n",
      "word       588154 non-null object\n",
      "drawing    588154 non-null object\n",
      "dtypes: object(2)\n",
      "memory usage: 306.2 MB\n"
     ]
    }
   ],
   "source": [
    "all_dfs = []\n",
    "\n",
    "for p in ALL_TRAIN_PATHS[:3]:\n",
    "    all_dfs.append(pd.read_csv(p)[['word', 'drawing']])\n",
    "    \n",
    "full_df = pd.concat(all_dfs)\n",
    "print(\"Full shape\", full_df.shape)\n",
    "full_df.info(memory_usage='deep')"
   ]
  },
  {
   "cell_type": "code",
   "execution_count": 4,
   "metadata": {},
   "outputs": [],
   "source": [
    "full_df = full_df.reset_index(drop=True)"
   ]
  },
  {
   "cell_type": "code",
   "execution_count": null,
   "metadata": {},
   "outputs": [],
   "source": [
    "dask.config.set(scheduler='processes')\n",
    "\n",
    "ddf = dd.from_pandas(full_df,npartitions=nCores)\n",
    "\n",
    "ddf['drawing'] = ddf['drawing']. \\\n",
    "                        map_partitions(\n",
    "                              lambda d : d.apply(stroke_vector), meta=object)\n",
    "\n",
    "ddf.to_csv('input/train_processed/test-*.csv') "
   ]
  },
  {
   "cell_type": "markdown",
   "metadata": {},
   "source": [
    "### https://towardsdatascience.com/how-i-learned-to-love-parallelized-applies-with-python-pandas-dask-and-numba-f06b0b367138"
   ]
  },
  {
   "cell_type": "code",
   "execution_count": 5,
   "metadata": {},
   "outputs": [
    {
     "name": "stdout",
     "output_type": "stream",
     "text": [
      "222.567875147\n",
      "<class 'pandas.core.frame.DataFrame'>\n",
      "RangeIndex: 1558365 entries, 0 to 1558364\n",
      "Data columns (total 2 columns):\n",
      "word       1558365 non-null object\n",
      "drawing    1558365 non-null object\n",
      "dtypes: object(2)\n",
      "memory usage: 254.1 MB\n"
     ]
    }
   ],
   "source": [
    "gc.collect()\n",
    "\n",
    "start = time.time()\n",
    "\n",
    "# ALWAYS use processes scheduler\n",
    "full_df['drawing'] = dd.from_pandas(full_df['drawing'],npartitions=nCores).\\\n",
    "   map_partitions(\n",
    "      lambda d : d.apply(stroke_vector), meta=object).\\\n",
    "   compute(scheduler='processes')\n",
    "\n",
    "print(time.time() - start)\n",
    "full_df.info(memory_usage='deep')"
   ]
  },
  {
   "cell_type": "code",
   "execution_count": 7,
   "metadata": {},
   "outputs": [
    {
     "data": {
      "text/plain": [
       "(196, 3)"
      ]
     },
     "execution_count": 7,
     "metadata": {},
     "output_type": "execute_result"
    }
   ],
   "source": [
    "test = full_df['drawing'][0]\n",
    "\n",
    "test.shape"
   ]
  },
  {
   "cell_type": "code",
   "execution_count": null,
   "metadata": {},
   "outputs": [],
   "source": []
  }
 ],
 "metadata": {
  "kernelspec": {
   "display_name": "Python 2",
   "language": "python",
   "name": "python2"
  },
  "language_info": {
   "codemirror_mode": {
    "name": "ipython",
    "version": 2
   },
   "file_extension": ".py",
   "mimetype": "text/x-python",
   "name": "python",
   "nbconvert_exporter": "python",
   "pygments_lexer": "ipython2",
   "version": "2.7.12"
  }
 },
 "nbformat": 4,
 "nbformat_minor": 2
}
